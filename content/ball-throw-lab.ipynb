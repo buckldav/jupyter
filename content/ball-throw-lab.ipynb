{
 "cells": [
  {
   "cell_type": "markdown",
   "metadata": {},
   "source": [
    "### Ball Throw Lab"
   ]
  },
  {
   "cell_type": "code",
   "execution_count": null,
   "metadata": {},
   "outputs": [],
   "source": [
    "# initialize package for units\n",
    "import micropip\n",
    "await micropip.install(\"pint\")\n",
    "from pint import UnitRegistry\n",
    "ureg = UnitRegistry()"
   ]
  },
  {
   "cell_type": "markdown",
   "metadata": {},
   "source": [
    "### Your data\n",
    "\n",
    "Take your times that you recorded for throwing the ball straight up and put them in the Python array below. The Python array look like this (with your numbers instead):\n",
    "\n",
    "```python\n",
    "times = [2.7, 4.56, 2.84]\n",
    "```"
   ]
  },
  {
   "cell_type": "code",
   "execution_count": null,
   "metadata": {},
   "outputs": [],
   "source": [
    "times = []"
   ]
  },
  {
   "cell_type": "markdown",
   "metadata": {},
   "source": [
    "### What was the apex of your throw?\n",
    "\n",
    "To calculate the apex of your throw (maximum y value), we will take half of the time it took for your ball throw and use the free fall equation.\n",
    "\n",
    "`y = 1/2 g t^2`\n",
    "\n",
    "Calculate it by hand first by...\n",
    "\n",
    "1. Getting the average time.\n",
    "2. Dividing that time in half to get just the time during free fall.\n",
    "3. Use the free fall equation to calculate the apex of your throw.\n",
    "\n",
    "Put your result in the in cell below."
   ]
  },
  {
   "cell_type": "markdown",
   "metadata": {},
   "source": []
  },
  {
   "cell_type": "markdown",
   "metadata": {},
   "source": [
    "### Compare your result\n",
    "\n",
    "Here's the result of your apex, calculated with Python."
   ]
  },
  {
   "cell_type": "code",
   "execution_count": null,
   "metadata": {},
   "outputs": [],
   "source": [
    "t_average = sum(times) / len(times) * ureg.second\n",
    "t_fall = t_average / 2\n",
    "g = 9.81 * ureg.meter / ureg.second**2\n",
    "y = g * t_fall**2 / 2\n",
    "print(f\"{y:.2f}\")"
   ]
  },
  {
   "cell_type": "markdown",
   "metadata": {},
   "source": [
    "### Animate a position vs. time graph\n",
    "\n",
    "When graphing motion in physics class, we will be putting time on the horizontal axis. To read the graph, you can isolate a time (e.g. 2 seconds) and see what the position would be of the ball at that time."
   ]
  },
  {
   "cell_type": "code",
   "execution_count": null,
   "metadata": {},
   "outputs": [],
   "source": [
    "import matplotlib.pyplot as plt\n",
    "import numpy as np\n",
    "\n",
    "import matplotlib.animation as animation\n",
    "\n",
    "fig, ax = plt.subplots()\n",
    "t_max = np.ceil(t_average.magnitude)\n",
    "num_frames = 40\n",
    "t = np.linspace(0, t_max, num_frames)\n",
    "g = -9.81\n",
    "v0 = -g * t_fall.magnitude\n",
    "\n",
    "# the equation\n",
    "z = g * t**2 / 2 + v0 * t\n",
    "\n",
    "scat = ax.scatter(t[0], z[0], c=\"b\", s=5, label=f'v0 = {v0} m/s')\n",
    "ax.set(xlim=[0, t_max], ylim=[-4, np.round(y.magnitude) + 4], xlabel='Time [s]', ylabel='Y [m]')\n",
    "ax.legend()\n",
    "\n",
    "def update(frame):\n",
    "    # for each frame, update the data stored on each artist.\n",
    "    x = t[:frame]\n",
    "    y = z[:frame]\n",
    "    # update the scatter plot:\n",
    "    data = np.stack([x, y]).T\n",
    "    scat.set_offsets(data)\n",
    "    return (scat,)\n",
    "\n",
    "\n",
    "ani = animation.FuncAnimation(fig=fig, func=update, frames=num_frames, interval=30)\n",
    "\n",
    "from IPython.display import HTML\n",
    "HTML(ani.to_jshtml())"
   ]
  },
  {
   "cell_type": "markdown",
   "metadata": {},
   "source": [
    "### Animate a velocity vs. time graph"
   ]
  },
  {
   "cell_type": "code",
   "execution_count": 1,
   "metadata": {},
   "outputs": [
    {
     "ename": "NameError",
     "evalue": "name 'plt' is not defined",
     "output_type": "error",
     "traceback": [
      "\u001b[1;31m---------------------------------------------------------------------------\u001b[0m",
      "\u001b[1;31mNameError\u001b[0m                                 Traceback (most recent call last)",
      "Cell \u001b[1;32mIn[1], line 1\u001b[0m\n\u001b[1;32m----> 1\u001b[0m fig, ax \u001b[38;5;241m=\u001b[39m \u001b[43mplt\u001b[49m\u001b[38;5;241m.\u001b[39msubplots()\n\u001b[0;32m      2\u001b[0m t_max \u001b[38;5;241m=\u001b[39m np\u001b[38;5;241m.\u001b[39mceil(t_average\u001b[38;5;241m.\u001b[39mmagnitude)\n\u001b[0;32m      3\u001b[0m num_frames \u001b[38;5;241m=\u001b[39m \u001b[38;5;241m40\u001b[39m\n",
      "\u001b[1;31mNameError\u001b[0m: name 'plt' is not defined"
     ]
    }
   ],
   "source": [
    "fig, ax = plt.subplots()\n",
    "t_max = np.ceil(t_average.magnitude)\n",
    "num_frames = 40\n",
    "t = np.linspace(0, t_max, num_frames)\n",
    "g = -9.81\n",
    "v0 = -g * t_fall.magnitude\n",
    "\n",
    "# the equation\n",
    "z = g * t + v0\n",
    "\n",
    "scat = ax.scatter(t[0], z[0], c=\"b\", s=5, label=f'v0 = {v0} m/s')\n",
    "ax.set(xlim=[0, t_max], ylim=[-np.round(y.magnitude) - 4, np.round(y.magnitude) + 4], xlabel='Time [s]', ylabel='v [m/s]')\n",
    "ax.legend()\n",
    "\n",
    "def update(frame):\n",
    "    # for each frame, update the data stored on each artist.\n",
    "    x = t[:frame]\n",
    "    y = z[:frame]\n",
    "    # update the scatter plot:\n",
    "    data = np.stack([x, y]).T\n",
    "    scat.set_offsets(data)\n",
    "    return (scat,)\n",
    "\n",
    "\n",
    "ani = animation.FuncAnimation(fig=fig, func=update, frames=num_frames, interval=30)\n",
    "\n",
    "from IPython.display import HTML\n",
    "HTML(ani.to_jshtml())"
   ]
  },
  {
   "cell_type": "markdown",
   "metadata": {},
   "source": [
    "### Questions"
   ]
  },
  {
   "cell_type": "markdown",
   "metadata": {},
   "source": [
    "#### 1. What do you notice about the position vs. time graph and the velocity vs. time graph? There is no single \"right answer,\"  just think about it and put your thoughts below."
   ]
  },
  {
   "cell_type": "markdown",
   "metadata": {},
   "source": []
  },
  {
   "cell_type": "markdown",
   "metadata": {},
   "source": [
    "#### 2. When you threw the ball up, it might have traveled a little bit horizontally. Does the horizontal displacement of your throw affect the free fall time? Why or why not?"
   ]
  },
  {
   "cell_type": "markdown",
   "metadata": {},
   "source": []
  },
  {
   "cell_type": "markdown",
   "metadata": {},
   "source": [
    "#### 3. What is the instantaneous velocity at which you threw the ball? Assume the velocity you threw it is the same as the velocity when the ball hits the ground (except one is in the opposite direction)."
   ]
  },
  {
   "cell_type": "markdown",
   "metadata": {},
   "source": []
  },
  {
   "cell_type": "markdown",
   "metadata": {},
   "source": [
    "#### 4. When the velocity of the ball is zero, where is the ball?"
   ]
  },
  {
   "cell_type": "markdown",
   "metadata": {},
   "source": []
  }
 ],
 "metadata": {
  "kernelspec": {
   "display_name": "Python 3",
   "language": "python",
   "name": "python3"
  },
  "language_info": {
   "codemirror_mode": {
    "name": "ipython",
    "version": 3
   },
   "file_extension": ".py",
   "mimetype": "text/x-python",
   "name": "python",
   "nbconvert_exporter": "python",
   "pygments_lexer": "ipython3",
   "version": "3.10.11"
  }
 },
 "nbformat": 4,
 "nbformat_minor": 2
}
